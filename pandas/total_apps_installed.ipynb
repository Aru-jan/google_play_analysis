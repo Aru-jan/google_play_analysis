{
 "cells": [
  {
   "cell_type": "code",
   "execution_count": null,
   "metadata": {},
   "outputs": [],
   "source": [
    "import pandas as pd\n",
    "import matplotlib.pyplot as plt\n",
    "import seaborn as sns\n",
    "\n",
    "df = pd.read_csv(\"top 10 apps.csv\")\n",
    "df\n",
    "\n",
    "sns.barplot(x='total_installs', y='App', data=df, palette='Blues_d')\n",
    "\n",
    "plt.xlabel('Total Installs')\n",
    "plt.ylabel('App')\n",
    "plt.title('Top 10 most installed Apps')\n",
    "plt.xscale('linear')\n",
    "plt.show()"
   ]
  }
 ],
 "metadata": {
  "language_info": {
   "name": "python"
  }
 },
 "nbformat": 4,
 "nbformat_minor": 2
}
